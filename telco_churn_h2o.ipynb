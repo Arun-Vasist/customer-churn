{
 "cells": [
  {
   "cell_type": "code",
   "execution_count": 2,
   "metadata": {},
   "outputs": [],
   "source": [
    "library(tidyverse)\n",
    "library(tidymodels)\n",
    "library(h2o)"
   ]
  },
  {
   "cell_type": "code",
   "execution_count": 3,
   "metadata": {},
   "outputs": [
    {
     "name": "stdout",
     "output_type": "stream",
     "text": [
      "Observations: 7,043\n",
      "Variables: 20\n",
      "$ gender           <fct> Female, Male, Male, Male, Female, Female, Male, Fema…\n",
      "$ SeniorCitizen    <dbl> 0, 0, 0, 0, 0, 0, 0, 0, 0, 0, 0, 0, 0, 0, 0, 0, 0, 0…\n",
      "$ Partner          <fct> Yes, No, No, No, No, No, No, No, Yes, No, Yes, No, Y…\n",
      "$ Dependents       <fct> No, No, No, No, No, No, Yes, No, No, Yes, Yes, No, N…\n",
      "$ tenure           <dbl> 1, 34, 2, 45, 2, 8, 22, 10, 28, 62, 13, 16, 58, 49, …\n",
      "$ PhoneService     <fct> No, Yes, Yes, No, Yes, Yes, Yes, No, Yes, Yes, Yes, …\n",
      "$ MultipleLines    <fct> No phone service, No, No, No phone service, No, Yes,…\n",
      "$ InternetService  <fct> DSL, DSL, DSL, DSL, Fiber optic, Fiber optic, Fiber …\n",
      "$ OnlineSecurity   <fct> No, Yes, Yes, Yes, No, No, No, Yes, No, Yes, Yes, No…\n",
      "$ OnlineBackup     <fct> Yes, No, Yes, No, No, No, Yes, No, No, Yes, No, No i…\n",
      "$ DeviceProtection <fct> No, Yes, No, Yes, No, Yes, No, No, Yes, No, No, No i…\n",
      "$ TechSupport      <fct> No, No, No, Yes, No, No, No, No, Yes, No, No, No int…\n",
      "$ StreamingTV      <fct> No, No, No, No, No, Yes, Yes, No, Yes, No, No, No in…\n",
      "$ StreamingMovies  <fct> No, No, No, No, No, Yes, No, No, Yes, No, No, No int…\n",
      "$ Contract         <fct> Month-to-month, One year, Month-to-month, One year, …\n",
      "$ PaperlessBilling <fct> Yes, No, Yes, No, Yes, Yes, Yes, No, Yes, No, Yes, N…\n",
      "$ PaymentMethod    <fct> Electronic check, Mailed check, Mailed check, Bank t…\n",
      "$ MonthlyCharges   <dbl> 29.85, 56.95, 53.85, 42.30, 70.70, 99.65, 89.10, 29.…\n",
      "$ TotalCharges     <dbl> 29.85, 1889.50, 108.15, 1840.75, 151.65, 820.50, 194…\n",
      "$ Churn            <fct> No, No, Yes, No, Yes, Yes, No, No, Yes, No, No, No, …\n"
     ]
    }
   ],
   "source": [
    "df <- read_csv('telco_customer_churn.csv', col_types = cols(customerID = col_skip()))\n",
    "df <- df %>% \n",
    "        mutate_if(is.character, as_factor) \n",
    "       #%>% mutate(Churn = Churn %>% fct_relevel('Yes'))\n",
    "        \n",
    "glimpse(df)"
   ]
  },
  {
   "cell_type": "code",
   "execution_count": 4,
   "metadata": {},
   "outputs": [],
   "source": [
    "split_obj <- rsample::initial_split(df, prop = 0.8, strata = 'Churn')\n",
    "\n",
    "train = rsample::training(split_obj)\n",
    "test = rsample::testing(split_obj)"
   ]
  },
  {
   "cell_type": "code",
   "execution_count": 5,
   "metadata": {},
   "outputs": [],
   "source": [
    "# We get vector of columns to drop from EDA done before.\n",
    "drop_cols_2 <- readRDS('drop_cols_2.rds')"
   ]
  },
  {
   "cell_type": "code",
   "execution_count": 6,
   "metadata": {},
   "outputs": [],
   "source": [
    "recipe_obj <- df %>% \n",
    "    recipe(Churn ~ ., data = df) %>%\n",
    "    step_knnimpute(TotalCharges) %>% \n",
    "    step_YeoJohnson(all_numeric()) %>%\n",
    "    step_center(all_numeric()) %>% \n",
    "    step_scale(all_numeric()) %>%\n",
    "    step_mutate(SeniorCitizen = SeniorCitizen %>% as.numeric()) %>% \n",
    "    step_dummy(all_nominal(), -Churn, one_hot = T) %>% \n",
    "    step_rm(drop_cols_2)"
   ]
  },
  {
   "cell_type": "code",
   "execution_count": 7,
   "metadata": {},
   "outputs": [
    {
     "name": "stdout",
     "output_type": "stream",
     "text": [
      "Observations: 5,636\n",
      "Variables: 22\n",
      "$ SeniorCitizen                           <dbl> -0.4398853, -0.4398853, -0.43…\n",
      "$ tenure                                  <dbl> -1.64422287, 0.29718222, 0.64…\n",
      "$ Churn                                   <fct> No, No, No, Yes, No, No, Yes,…\n",
      "$ gender_Male                             <dbl> 0, 1, 1, 0, 1, 0, 0, 1, 1, 1,…\n",
      "$ Partner_Yes                             <dbl> 1, 0, 0, 0, 0, 0, 1, 0, 1, 1,…\n",
      "$ Dependents_Yes                          <dbl> 0, 0, 0, 0, 1, 0, 0, 1, 1, 0,…\n",
      "$ PhoneService_Yes                        <dbl> 0, 1, 0, 1, 1, 0, 1, 1, 1, 1,…\n",
      "$ MultipleLines_Yes                       <dbl> 0, 0, 0, 1, 1, 0, 1, 0, 0, 1,…\n",
      "$ InternetService_DSL                     <dbl> 1, 1, 1, 0, 0, 1, 0, 1, 1, 0,…\n",
      "$ InternetService_Fiber.optic             <dbl> 0, 0, 0, 1, 1, 0, 1, 0, 0, 1,…\n",
      "$ OnlineSecurity_No                       <dbl> 1, 0, 0, 1, 1, 0, 1, 0, 0, 1,…\n",
      "$ OnlineBackup_No                         <dbl> 0, 1, 1, 1, 0, 1, 1, 0, 1, 1,…\n",
      "$ DeviceProtection_No                     <dbl> 1, 0, 0, 0, 1, 1, 0, 1, 1, 0,…\n",
      "$ TechSupport_No                          <dbl> 1, 1, 0, 1, 1, 1, 0, 1, 1, 1,…\n",
      "$ StreamingTV_Yes                         <dbl> 0, 0, 0, 1, 1, 0, 1, 0, 0, 1,…\n",
      "$ StreamingMovies_Yes                     <dbl> 0, 0, 0, 1, 0, 0, 1, 0, 0, 1,…\n",
      "$ Contract_Month.to.month                 <dbl> 1, 0, 0, 1, 1, 1, 1, 0, 1, 0,…\n",
      "$ Contract_Two.year                       <dbl> 0, 0, 0, 0, 0, 0, 0, 0, 0, 0,…\n",
      "$ PaperlessBilling_Yes                    <dbl> 1, 0, 0, 1, 1, 0, 1, 0, 1, 0,…\n",
      "$ PaymentMethod_Electronic.check          <dbl> 1, 0, 0, 1, 0, 0, 1, 0, 0, 0,…\n",
      "$ PaymentMethod_Bank.transfer..automatic. <dbl> 0, 0, 1, 0, 0, 0, 0, 1, 0, 0,…\n",
      "$ PaymentMethod_Credit.card..automatic.   <dbl> 0, 0, 0, 0, 1, 0, 0, 0, 0, 1,…\n"
     ]
    }
   ],
   "source": [
    "train_processed <- recipe_obj %>% prep() %>% bake(train)\n",
    "test_processed <- recipe_obj %>% prep() %>% bake(test)\n",
    "\n",
    "train_processed %>% glimpse()"
   ]
  },
  {
   "cell_type": "code",
   "execution_count": 9,
   "metadata": {},
   "outputs": [
    {
     "name": "stdout",
     "output_type": "stream",
     "text": [
      "\n",
      "H2O is not running yet, starting it now...\n",
      "\n",
      "Note:  In case of errors look at the following log files:\n",
      "    /tmp/RtmpVB1C0x/h2o_arun_started_from_r.out\n",
      "    /tmp/RtmpVB1C0x/h2o_arun_started_from_r.err\n",
      "\n",
      "\n",
      "Starting H2O JVM and connecting: .. Connection successful!\n",
      "\n",
      "R is connected to the H2O cluster: \n",
      "    H2O cluster uptime:         4 seconds 36 milliseconds \n",
      "    H2O cluster timezone:       Asia/Kolkata \n",
      "    H2O data parsing timezone:  UTC \n",
      "    H2O cluster version:        3.28.0.2 \n",
      "    H2O cluster version age:    2 months and 11 days  \n",
      "    H2O cluster name:           H2O_started_from_R_arun_pag359 \n",
      "    H2O cluster total nodes:    1 \n",
      "    H2O cluster total memory:   3.45 GB \n",
      "    H2O cluster total cores:    4 \n",
      "    H2O cluster allowed cores:  4 \n",
      "    H2O cluster healthy:        TRUE \n",
      "    H2O Connection ip:          localhost \n",
      "    H2O Connection port:        54321 \n",
      "    H2O Connection proxy:       NA \n",
      "    H2O Internal Security:      FALSE \n",
      "    H2O API Extensions:         Amazon S3, XGBoost, Algos, AutoML, Core V3, TargetEncoder, Core V4 \n",
      "    R Version:                  R version 3.6.1 (2019-07-05) \n",
      "\n"
     ]
    }
   ],
   "source": [
    "h2o.init()"
   ]
  },
  {
   "cell_type": "code",
   "execution_count": 11,
   "metadata": {},
   "outputs": [
    {
     "name": "stdout",
     "output_type": "stream",
     "text": [
      "  |======================================================================| 100%\n",
      "  |======================================================================| 100%\n"
     ]
    }
   ],
   "source": [
    "train_h2o <- as.h2o(train_processed)\n",
    "test_h2o <- as.h2o(test_processed)"
   ]
  },
  {
   "cell_type": "code",
   "execution_count": 12,
   "metadata": {},
   "outputs": [],
   "source": [
    "y <- \"Churn\"\n",
    "x <- setdiff(names(train_h2o), y)"
   ]
  },
  {
   "cell_type": "code",
   "execution_count": null,
   "metadata": {},
   "outputs": [
    {
     "name": "stdout",
     "output_type": "stream",
     "text": [
      "  |===========================================================           |  84%"
     ]
    }
   ],
   "source": [
    "aml <- h2o.automl(x = x, y = y,\n",
    "                  training_frame = train_h2o,\n",
    "                  max_models = 20,\n",
    "                  seed = 123)"
   ]
  },
  {
   "cell_type": "code",
   "execution_count": null,
   "metadata": {},
   "outputs": [],
   "source": []
  }
 ],
 "metadata": {
  "kernelspec": {
   "display_name": "R",
   "language": "R",
   "name": "ir"
  },
  "language_info": {
   "codemirror_mode": "r",
   "file_extension": ".r",
   "mimetype": "text/x-r-source",
   "name": "R",
   "pygments_lexer": "r",
   "version": "3.6.1"
  }
 },
 "nbformat": 4,
 "nbformat_minor": 4
}
